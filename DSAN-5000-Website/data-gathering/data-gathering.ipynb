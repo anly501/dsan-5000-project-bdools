{
 "cells": [
  {
   "cell_type": "markdown",
   "metadata": {},
   "source": [
    "# **Data Gathering**"
   ]
  },
  {
   "cell_type": "markdown",
   "metadata": {},
   "source": [
    "## **Introduction**\n",
    "\n",
    "In this section, I will discuss the data gathering process. I will be using the following data sources:\n",
    "\n",
    "* FDA 510(k) Medical Device Data\n",
    "* SEC EDGAR 10(K) Annual Financial Filings\n",
    "* Top Medical Device Company Descriptions from first page of 10(K) through `edgar` package, an API for SEC EDGAR filings in R\n",
    "* Python NewsAPI for news articles about the subeset of medical device companies I will be analyzing for my project"
   ]
  },
  {
   "cell_type": "markdown",
   "metadata": {},
   "source": [
    "## **Importing Data**"
   ]
  },
  {
   "cell_type": "markdown",
   "metadata": {},
   "source": [
    "### **FDA Data**\n",
    "\n",
    "The first data source is the [**FDA**](https://open.fda.gov/]), which is the Federal Government Body responsible for regulating and approving medical devices and pharmaceuticals. Specifically, I found my medical device dataset under the [**510k header**](https://open.fda.gov/data/downloads/) header of the [**openFDA**](https://open.fda.gov/) site. The dataset is a JSON file that contains information about medical devices in the inital filing process for approval to the FDA once the company believes their device is ready to go to market. The dataset contains information about the device, the company, the approval process, and the device's intended use. The dataset is updated daily and contains over 100,000 records.\n",
    "\n",
    "![Device 510(k)](2023-10-12-16-08-41.png)\n",
    "\n",
    "When I click on the `/device/510k data` link,a Zip file containing the data is downloaded onto my computer. Once unzipped, I now have access to the JSON file with the underlying data, which I will read into Python through a Pandas DataFrame once I have gathered all my data. Here's a look at the JSON file: ![FDA JSON](2023-10-12-18-22-29.png)"
   ]
  },
  {
   "cell_type": "code",
   "execution_count": 2,
   "metadata": {},
   "outputs": [],
   "source": [
    "import pandas as pd\n",
    "import json\n",
    "\n",
    "with open('/Users/dsan/My Drive/5000-Project/Data/Raw-data/FDA/510k.json','r') as f:\n",
    "    file_510k = json.load(f)   \n",
    "    #str_510k = file_510k.read()\n",
    "    df_510k = pd.json_normalize(file_510k,'results')\n"
   ]
  },
  {
   "cell_type": "markdown",
   "metadata": {},
   "source": [
    "Now let's quickly look at a glimpse of the data to get a better understanding of what it looks like."
   ]
  },
  {
   "cell_type": "code",
   "execution_count": 3,
   "metadata": {},
   "outputs": [
    {
     "name": "stdout",
     "output_type": "stream",
     "text": [
      "<class 'pandas.core.frame.DataFrame'>\n",
      "RangeIndex: 166594 entries, 0 to 166593\n",
      "Data columns (total 29 columns):\n",
      " #   Column                                 Non-Null Count   Dtype \n",
      "---  ------                                 --------------   ----- \n",
      " 0   third_party_flag                       166594 non-null  object\n",
      " 1   city                                   166594 non-null  object\n",
      " 2   advisory_committee_description         166594 non-null  object\n",
      " 3   address_1                              166594 non-null  object\n",
      " 4   address_2                              166594 non-null  object\n",
      " 5   statement_or_summary                   166594 non-null  object\n",
      " 6   product_code                           166594 non-null  object\n",
      " 7   zip_code                               166594 non-null  object\n",
      " 8   applicant                              166594 non-null  object\n",
      " 9   decision_date                          166594 non-null  object\n",
      " 10  decision_code                          166594 non-null  object\n",
      " 11  country_code                           166594 non-null  object\n",
      " 12  device_name                            166594 non-null  object\n",
      " 13  advisory_committee                     166594 non-null  object\n",
      " 14  contact                                166594 non-null  object\n",
      " 15  expedited_review_flag                  166594 non-null  object\n",
      " 16  k_number                               166594 non-null  object\n",
      " 17  state                                  166594 non-null  object\n",
      " 18  date_received                          166594 non-null  object\n",
      " 19  review_advisory_committee              166594 non-null  object\n",
      " 20  postal_code                            166594 non-null  object\n",
      " 21  decision_description                   166594 non-null  object\n",
      " 22  clearance_type                         166594 non-null  object\n",
      " 23  openfda.registration_number            163690 non-null  object\n",
      " 24  openfda.fei_number                     163690 non-null  object\n",
      " 25  openfda.device_name                    164962 non-null  object\n",
      " 26  openfda.medical_specialty_description  164962 non-null  object\n",
      " 27  openfda.regulation_number              164962 non-null  object\n",
      " 28  openfda.device_class                   164962 non-null  object\n",
      "dtypes: object(29)\n",
      "memory usage: 36.9+ MB\n"
     ]
    },
    {
     "data": {
      "text/html": [
       "<div>\n",
       "<style scoped>\n",
       "    .dataframe tbody tr th:only-of-type {\n",
       "        vertical-align: middle;\n",
       "    }\n",
       "\n",
       "    .dataframe tbody tr th {\n",
       "        vertical-align: top;\n",
       "    }\n",
       "\n",
       "    .dataframe thead th {\n",
       "        text-align: right;\n",
       "    }\n",
       "</style>\n",
       "<table border=\"1\" class=\"dataframe\">\n",
       "  <thead>\n",
       "    <tr style=\"text-align: right;\">\n",
       "      <th></th>\n",
       "      <th>third_party_flag</th>\n",
       "      <th>city</th>\n",
       "      <th>advisory_committee_description</th>\n",
       "      <th>address_1</th>\n",
       "      <th>address_2</th>\n",
       "      <th>statement_or_summary</th>\n",
       "      <th>product_code</th>\n",
       "      <th>zip_code</th>\n",
       "      <th>applicant</th>\n",
       "      <th>decision_date</th>\n",
       "      <th>...</th>\n",
       "      <th>review_advisory_committee</th>\n",
       "      <th>postal_code</th>\n",
       "      <th>decision_description</th>\n",
       "      <th>clearance_type</th>\n",
       "      <th>openfda.registration_number</th>\n",
       "      <th>openfda.fei_number</th>\n",
       "      <th>openfda.device_name</th>\n",
       "      <th>openfda.medical_specialty_description</th>\n",
       "      <th>openfda.regulation_number</th>\n",
       "      <th>openfda.device_class</th>\n",
       "    </tr>\n",
       "  </thead>\n",
       "  <tbody>\n",
       "    <tr>\n",
       "      <th>0</th>\n",
       "      <td>N</td>\n",
       "      <td>CHATSWORTH</td>\n",
       "      <td>Unknown</td>\n",
       "      <td>9530 DESOTO AVE.</td>\n",
       "      <td></td>\n",
       "      <td></td>\n",
       "      <td></td>\n",
       "      <td>91311</td>\n",
       "      <td>DEVON INDUSTRIES, INC.</td>\n",
       "      <td>1987-04-10</td>\n",
       "      <td>...</td>\n",
       "      <td>SU</td>\n",
       "      <td>91311</td>\n",
       "      <td>Unknown</td>\n",
       "      <td>Traditional</td>\n",
       "      <td>NaN</td>\n",
       "      <td>NaN</td>\n",
       "      <td>NaN</td>\n",
       "      <td>NaN</td>\n",
       "      <td>NaN</td>\n",
       "      <td>NaN</td>\n",
       "    </tr>\n",
       "    <tr>\n",
       "      <th>1</th>\n",
       "      <td>N</td>\n",
       "      <td>BRONX</td>\n",
       "      <td>General, Plastic Surgery</td>\n",
       "      <td>3830 BOSTON RD.</td>\n",
       "      <td></td>\n",
       "      <td></td>\n",
       "      <td>LRO</td>\n",
       "      <td>10475</td>\n",
       "      <td>FRAASS SURVIVAL SYSTEMS, INC.</td>\n",
       "      <td>1987-07-09</td>\n",
       "      <td>...</td>\n",
       "      <td>SU</td>\n",
       "      <td>10475</td>\n",
       "      <td>Substantially Equivalent</td>\n",
       "      <td>Traditional</td>\n",
       "      <td>[2320762, 1823410, 3011389083, 8022032, 293648...</td>\n",
       "      <td>[1823410, 3011389083, 2936485, 3013298431, 300...</td>\n",
       "      <td>General Surgery Tray</td>\n",
       "      <td>General, Plastic Surgery</td>\n",
       "      <td>878.4370</td>\n",
       "      <td>2</td>\n",
       "    </tr>\n",
       "    <tr>\n",
       "      <th>2</th>\n",
       "      <td>N</td>\n",
       "      <td>WILMINGTON</td>\n",
       "      <td>Anesthesiology</td>\n",
       "      <td>42 INDUSTRIAL WAY</td>\n",
       "      <td></td>\n",
       "      <td></td>\n",
       "      <td>BYD</td>\n",
       "      <td>01887</td>\n",
       "      <td>PORTEX, INC.</td>\n",
       "      <td>1988-01-19</td>\n",
       "      <td>...</td>\n",
       "      <td>AN</td>\n",
       "      <td>01887</td>\n",
       "      <td>Substantially Equivalent</td>\n",
       "      <td>Traditional</td>\n",
       "      <td>[3003902312, 3006534321, 8010485, 3006061749, ...</td>\n",
       "      <td>[3003902312, 3006534321, 3006061749, 301198796...</td>\n",
       "      <td>Condenser, Heat And Moisture (Artificial Nose)</td>\n",
       "      <td>Anesthesiology</td>\n",
       "      <td>868.5375</td>\n",
       "      <td>1</td>\n",
       "    </tr>\n",
       "    <tr>\n",
       "      <th>3</th>\n",
       "      <td>N</td>\n",
       "      <td>ST. LOUIS</td>\n",
       "      <td>General, Plastic Surgery</td>\n",
       "      <td>P.O. BOX 466</td>\n",
       "      <td></td>\n",
       "      <td>Summary</td>\n",
       "      <td>KKX</td>\n",
       "      <td>63166</td>\n",
       "      <td>ANGELICA UNIFORM</td>\n",
       "      <td>1995-01-02</td>\n",
       "      <td>...</td>\n",
       "      <td>HO</td>\n",
       "      <td>63166</td>\n",
       "      <td>Substantially Equivalent</td>\n",
       "      <td>Traditional</td>\n",
       "      <td>[2320762, 3007886583, 3006787036, 1032347, 300...</td>\n",
       "      <td>[3007886583, 3006787036, 1032347, 3004133257, ...</td>\n",
       "      <td>Drape, Surgical</td>\n",
       "      <td>General, Plastic Surgery</td>\n",
       "      <td>878.4370</td>\n",
       "      <td>2</td>\n",
       "    </tr>\n",
       "    <tr>\n",
       "      <th>4</th>\n",
       "      <td>N</td>\n",
       "      <td>BURLINGTON</td>\n",
       "      <td>Cardiovascular</td>\n",
       "      <td>32 SECOND AVE.</td>\n",
       "      <td></td>\n",
       "      <td>Statement</td>\n",
       "      <td>MKJ</td>\n",
       "      <td>01803</td>\n",
       "      <td>ZOLL MEDICAL CORP.</td>\n",
       "      <td>1993-10-07</td>\n",
       "      <td>...</td>\n",
       "      <td>CV</td>\n",
       "      <td>01803</td>\n",
       "      <td>Substantially Equivalent</td>\n",
       "      <td>Traditional</td>\n",
       "      <td>[1219103, 3002714378, 3013153405, 3012636179, ...</td>\n",
       "      <td>[3002714378, 3013153405, 6736, 3012636179, 300...</td>\n",
       "      <td>Automated External Defibrillators (Non-Wearable)</td>\n",
       "      <td>Cardiovascular</td>\n",
       "      <td>870.5310</td>\n",
       "      <td>3</td>\n",
       "    </tr>\n",
       "  </tbody>\n",
       "</table>\n",
       "<p>5 rows × 29 columns</p>\n",
       "</div>"
      ],
      "text/plain": [
       "  third_party_flag        city advisory_committee_description  \\\n",
       "0                N  CHATSWORTH                        Unknown   \n",
       "1                N       BRONX       General, Plastic Surgery   \n",
       "2                N  WILMINGTON                 Anesthesiology   \n",
       "3                N   ST. LOUIS       General, Plastic Surgery   \n",
       "4                N  BURLINGTON                 Cardiovascular   \n",
       "\n",
       "           address_1 address_2 statement_or_summary product_code zip_code  \\\n",
       "0   9530 DESOTO AVE.                                                91311   \n",
       "1    3830 BOSTON RD.                                         LRO    10475   \n",
       "2  42 INDUSTRIAL WAY                                         BYD    01887   \n",
       "3       P.O. BOX 466                        Summary          KKX    63166   \n",
       "4     32 SECOND AVE.                      Statement          MKJ    01803   \n",
       "\n",
       "                       applicant decision_date  ... review_advisory_committee  \\\n",
       "0         DEVON INDUSTRIES, INC.    1987-04-10  ...                        SU   \n",
       "1  FRAASS SURVIVAL SYSTEMS, INC.    1987-07-09  ...                        SU   \n",
       "2                   PORTEX, INC.    1988-01-19  ...                        AN   \n",
       "3               ANGELICA UNIFORM    1995-01-02  ...                        HO   \n",
       "4             ZOLL MEDICAL CORP.    1993-10-07  ...                        CV   \n",
       "\n",
       "  postal_code      decision_description clearance_type  \\\n",
       "0       91311                   Unknown    Traditional   \n",
       "1       10475  Substantially Equivalent    Traditional   \n",
       "2       01887  Substantially Equivalent    Traditional   \n",
       "3       63166  Substantially Equivalent    Traditional   \n",
       "4       01803  Substantially Equivalent    Traditional   \n",
       "\n",
       "                         openfda.registration_number  \\\n",
       "0                                                NaN   \n",
       "1  [2320762, 1823410, 3011389083, 8022032, 293648...   \n",
       "2  [3003902312, 3006534321, 8010485, 3006061749, ...   \n",
       "3  [2320762, 3007886583, 3006787036, 1032347, 300...   \n",
       "4  [1219103, 3002714378, 3013153405, 3012636179, ...   \n",
       "\n",
       "                                  openfda.fei_number  \\\n",
       "0                                                NaN   \n",
       "1  [1823410, 3011389083, 2936485, 3013298431, 300...   \n",
       "2  [3003902312, 3006534321, 3006061749, 301198796...   \n",
       "3  [3007886583, 3006787036, 1032347, 3004133257, ...   \n",
       "4  [3002714378, 3013153405, 6736, 3012636179, 300...   \n",
       "\n",
       "                                openfda.device_name  \\\n",
       "0                                               NaN   \n",
       "1                              General Surgery Tray   \n",
       "2    Condenser, Heat And Moisture (Artificial Nose)   \n",
       "3                                   Drape, Surgical   \n",
       "4  Automated External Defibrillators (Non-Wearable)   \n",
       "\n",
       "  openfda.medical_specialty_description openfda.regulation_number  \\\n",
       "0                                   NaN                       NaN   \n",
       "1              General, Plastic Surgery                  878.4370   \n",
       "2                        Anesthesiology                  868.5375   \n",
       "3              General, Plastic Surgery                  878.4370   \n",
       "4                        Cardiovascular                  870.5310   \n",
       "\n",
       "  openfda.device_class  \n",
       "0                  NaN  \n",
       "1                    2  \n",
       "2                    1  \n",
       "3                    2  \n",
       "4                    3  \n",
       "\n",
       "[5 rows x 29 columns]"
      ]
     },
     "execution_count": 3,
     "metadata": {},
     "output_type": "execute_result"
    }
   ],
   "source": [
    "df_510k.describe()\n",
    "df_510k.info()\n",
    "df_510k.head()"
   ]
  },
  {
   "cell_type": "markdown",
   "metadata": {},
   "source": [
    "It looks like there's 29 different qualitative columns and over 150,000 rows. I will be using this data to analyze the medical device industry and the companies that make up the industry, so I will primarily be focused on gathering more information about the financial information of the top 100 medical device companies."
   ]
  },
  {
   "cell_type": "markdown",
   "metadata": {},
   "source": [
    "### **SEC EDGAR 10(K) Annual Financial Filings**\n",
    "\n",
    "The second data source is the [**SEC EDGAR**](https://www.sec.gov/edgar/sec-api-documentation) database, which is the Federal Government Body responsible for regulating and approving financial filings for publicly traded companies. Specifically, I will be using the [**10(K)**](https://www.investopedia.com/terms/1/10-k.asp) filings, which are annual financial filings that publicly traded companies are required to file with the SEC. The 10(K) filings contain information about the company's financials, business operations, and risk factors. The 10(K) filings are the most comprehensive financial filings that companies are required to file with the SEC.\n",
    "\n",
    "I scrolled down to the **Bulk Data** section, and downloaded the companyfacts.zip folder, [**here**](https://www.sec.gov/Archives/edgar/daily-index/xbrl/companyfacts.zip), which contains a JSON file with the underlying data for all the 10(K) filings of public companies currenlty stored in the SEC EDGAR database.\n",
    "\n",
    "![Company Facts](2023-10-12-16-35-38.png)"
   ]
  },
  {
   "cell_type": "markdown",
   "metadata": {},
   "source": [
    "Now that I have all the data in the `companyfacts.zip` folder, I will read the JSON file into a Pandas DataFrame so that I can start extracting the relevant information I want from it. Initially, I want to get the company name and the matching CIK number. Once I have all the unique CIKs, I will then be able allign the CIKs with the names of companies that have filed 510(K)s in my FDA dataframe. Finally, once I've completed this matching, I'll be able to use this information to extract the 10(K) filing from the SEC EDGAR database for the year the company submitted their initial 510(K) application using the `edgar` package in R so that I can match quantiative financial data of the company with the qualitative data of the FDA Database."
   ]
  },
  {
   "cell_type": "code",
   "execution_count": 4,
   "metadata": {},
   "outputs": [
    {
     "name": "stderr",
     "output_type": "stream",
     "text": [
      "100%|██████████| 17415/17415 [57:52<00:00,  5.01it/s]   \n"
     ]
    },
    {
     "name": "stdout",
     "output_type": "stream",
     "text": [
      "<class 'pandas.core.frame.DataFrame'>\n",
      "RangeIndex: 17345 entries, 0 to 17344\n",
      "Data columns (total 2 columns):\n",
      " #   Column    Non-Null Count  Dtype \n",
      "---  ------    --------------  ----- \n",
      " 0   CIK       17345 non-null  object\n",
      " 1   SEC_name  17345 non-null  object\n",
      "dtypes: object(2)\n",
      "memory usage: 271.1+ KB\n"
     ]
    },
    {
     "data": {
      "text/html": [
       "<div>\n",
       "<style scoped>\n",
       "    .dataframe tbody tr th:only-of-type {\n",
       "        vertical-align: middle;\n",
       "    }\n",
       "\n",
       "    .dataframe tbody tr th {\n",
       "        vertical-align: top;\n",
       "    }\n",
       "\n",
       "    .dataframe thead th {\n",
       "        text-align: right;\n",
       "    }\n",
       "</style>\n",
       "<table border=\"1\" class=\"dataframe\">\n",
       "  <thead>\n",
       "    <tr style=\"text-align: right;\">\n",
       "      <th></th>\n",
       "      <th>CIK</th>\n",
       "      <th>SEC_name</th>\n",
       "    </tr>\n",
       "  </thead>\n",
       "  <tbody>\n",
       "    <tr>\n",
       "      <th>0</th>\n",
       "      <td>743870</td>\n",
       "      <td>RANCON REALTY FUND IV</td>\n",
       "    </tr>\n",
       "    <tr>\n",
       "      <th>1</th>\n",
       "      <td>815097</td>\n",
       "      <td>Carnival Corporation</td>\n",
       "    </tr>\n",
       "    <tr>\n",
       "      <th>2</th>\n",
       "      <td>1466739</td>\n",
       "      <td>NEXT GALAXY CORP.</td>\n",
       "    </tr>\n",
       "    <tr>\n",
       "      <th>3</th>\n",
       "      <td>1841661</td>\n",
       "      <td>AF ACQUISITION CORP.</td>\n",
       "    </tr>\n",
       "    <tr>\n",
       "      <th>4</th>\n",
       "      <td>0001831099</td>\n",
       "      <td></td>\n",
       "    </tr>\n",
       "  </tbody>\n",
       "</table>\n",
       "</div>"
      ],
      "text/plain": [
       "          CIK               SEC_name\n",
       "0      743870  RANCON REALTY FUND IV\n",
       "1      815097   Carnival Corporation\n",
       "2     1466739      NEXT GALAXY CORP.\n",
       "3     1841661   AF ACQUISITION CORP.\n",
       "4  0001831099                       "
      ]
     },
     "execution_count": 4,
     "metadata": {},
     "output_type": "execute_result"
    }
   ],
   "source": [
    "import glob             # this package will help me read in all the files in the companyfacts folder \n",
    "import tqdm             # this package will help me track the progress of the for loop because it will take a decent amount of time \n",
    "\n",
    "filenames = glob.glob('/Users/dsan/My Drive/5000-Project/Data/Raw-data/SEC/companyfacts/*.json')        # reading them into a list\n",
    "\n",
    "sec_list = []            # empy list to store rows of dataframe containing SEC Name and CIK\n",
    "for file in tqdm.tqdm(filenames):\n",
    "    with open(file, 'r') as f:\n",
    "        try:\n",
    "            data = json.load(f)\n",
    "            name = data[\"entityName\"]\n",
    "            cik = data[\"cik\"]\n",
    "            row = {\"CIK\": cik, \"SEC_name\": name}\n",
    "            sec_list.append(row)\n",
    "        except:\n",
    "            continue          # some files are will raise errors, so for the sake of expediency, we skip them   \n",
    "\n",
    "df_sec = pd.DataFrame(sec_list)    # converting list of dictionaries to dataframe\n",
    "df_sec.info()\n",
    "df_sec.head()"
   ]
  },
  {
   "cell_type": "markdown",
   "metadata": {},
   "source": [
    "Now that we've loaded the SEC EDGAR data into a Pandas DataFrame, we can see that We have the CIKs and SEC_names of 17345 different companies."
   ]
  },
  {
   "cell_type": "markdown",
   "metadata": {},
   "source": [
    "## **Next Steps: Data Cleaning To-Do List**"
   ]
  },
  {
   "cell_type": "markdown",
   "metadata": {},
   "source": [
    "### **Matching FDA company names with and SEC EDGAR Data**"
   ]
  },
  {
   "cell_type": "markdown",
   "metadata": {},
   "source": [
    "Now that we have the CIKs and SEC_names of 17345 different companies, we can now match the CIKs with the names of companies that have filed 510(K)s in my FDA dataframe. I will be doing that on my data-cleaning tab, here: [**Data Cleaning**](https://ben-doolan.georgetown.domains/_site/data-cleaning/data-cleaning.html)"
   ]
  },
  {
   "cell_type": "markdown",
   "metadata": {},
   "source": [
    "### **R `edgar` Package: API Pull of 10(K) Filings Company Descriptions**"
   ]
  },
  {
   "cell_type": "markdown",
   "metadata": {},
   "source": [
    "Once I've matched the company names in the FDA dataset with the SEC EDGAR dataset, I will then be able to use the `edgar` package in R to pull the company description blurb on the front page of 10(K) filings for the year the company submitted their initial 510(K) application. I will be doing that on my data-cleaning tab, here: [**Data Cleaning**](https://ben-doolan.georgetown.domains/_site/data-cleaning/data-cleaning.html). To check out the `edgar` package, click [**here**](https://cran.r-project.org/web/packages/edgar/index.html) and to check out the documentation, click [**here**](https://cran.r-project.org/web/packages/edgar/edgar.pdf).\n"
   ]
  },
  {
   "cell_type": "markdown",
   "metadata": {},
   "source": [
    "### **NewsAPI Pull via Python**"
   ]
  },
  {
   "cell_type": "markdown",
   "metadata": {},
   "source": [
    "In order to get the latest news on companies active in the medical devices space, I'll be running a NewsAPI query on the subset of companies I will be analyzing for my project. My project will focus on a subset of the maximum size of the 100 companies with the most 510(K) device applications in the FDA dataset. I can only choose the top 100 because NewsAPI caps requests at 100 per day. I will be doing that on my data-cleaning tab, here: [**Data Cleaning**](https://ben-doolan.georgetown.domains/_site/data-cleaning/data-cleaning.html). To check out the NewsAPI, click [**here**](https://newsapi.org/) and to check out the documentation, click [**here**](https://newsapi.org/docs/client-libraries/python)."
   ]
  },
  {
   "cell_type": "markdown",
   "metadata": {},
   "source": []
  }
 ],
 "metadata": {
  "kernelspec": {
   "display_name": "base",
   "language": "python",
   "name": "python3"
  },
  "language_info": {
   "codemirror_mode": {
    "name": "ipython",
    "version": 3
   },
   "file_extension": ".py",
   "mimetype": "text/x-python",
   "name": "python",
   "nbconvert_exporter": "python",
   "pygments_lexer": "ipython3",
   "version": "3.10.13"
  },
  "orig_nbformat": 4
 },
 "nbformat": 4,
 "nbformat_minor": 2
}

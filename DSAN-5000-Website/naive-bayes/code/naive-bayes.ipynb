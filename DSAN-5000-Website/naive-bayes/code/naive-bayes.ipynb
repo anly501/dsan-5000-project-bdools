{
 "cells": [
  {
   "cell_type": "markdown",
   "metadata": {},
   "source": [
    "# **Naive Bayes**"
   ]
  },
  {
   "cell_type": "markdown",
   "metadata": {},
   "source": [
    "## **Introduction to Naive Bayes**"
   ]
  },
  {
   "cell_type": "markdown",
   "metadata": {},
   "source": [
    "Naive Bayes classification is a method used to sort data into categories based on probability. It's built on Bayes' Theorem and assumes that the features, or attributes of the data, are independent when you know the category. In simple terms, it uses the formula $ (P(\\text{Class}|\\text{Features}) = \\frac{P(\\text{Features}|\\text{Class}) \\times P(\\text{Class})}{P(\\text{Features})}) $ to find out which category is most likely given a set of features.\n",
    "\n",
    "There are different types of Naive Bayes classifiers based on the kind of data you have. Gaussian Naive Bayes is used when the features are continuous and assumes a normal distribution. Multinomial Naive Bayes is best for count data, like the number of times a word appears in a text. Bernoulli Naive Bayes is used for binary data and assumes a Bernoulli distribution.By picking the right type of Naive Bayes for a model, you can create a simple and effective model to classify data. Even though it makes a basic assumption about feature independence, Naive Bayes can be a strong classifcation tool for sorting data into categories.\n",
    "\n",
    "In my analysis, I will be training a Gaussian Naive Bayes model on my record data with the goal using my financial data to predict what Clearance Type will be assigned to a medical device of applying for 510(K) clearance. I suspect that companies with stronger financial metrics will be more likely to receive a 510(K) special clearance due to the resources they have avaliable.\n",
    "\n",
    "I will also be training a Multinomial Gaussian Naive Bayes model on my text data, the Company description section of from a Company's annual SEC 10-K finanical filing, which I pulled from the SEC database using R in my data cleaning section. I will be using this model to predict what Advisory Committee will be assigned to a medical device applying for 510(K) clearance as a proxy for what industries a company is involved in."
   ]
  },
  {
   "cell_type": "markdown",
   "metadata": {},
   "source": [
    "# **Naive Bayes for Record Data with Clearance Type**"
   ]
  },
  {
   "cell_type": "markdown",
   "metadata": {},
   "source": [
    "## **Extracting Data**"
   ]
  },
  {
   "cell_type": "code",
   "execution_count": 15,
   "metadata": {},
   "outputs": [],
   "source": [
    "# Import libraries\n",
    "import pandas as pd\n",
    "import numpy as np\n",
    "import matplotlib.pyplot as plt\n",
    "\n",
    "# Loading in record data\n",
    "\n",
    "df = pd.read_csv('../../data-exploration/outputs/model_normalized.csv')\n",
    "\n",
    "# Extracting relevant variables\n",
    "\n",
    "quant_cols = [\"ConsolidatedRevenue\",\n",
    "                \"CostOfGoodsAndServicesSold\",\n",
    "                \"GrossProfit\",\n",
    "                \"OperatingExpenses\",\n",
    "                \"ResearchAndDevelopmentExpense\",\n",
    "                \"SellingGeneralAndAdministrativeExpense\",\n",
    "                \"NetIncomeLoss\",\n",
    "                \"EarningsPerShareBasic\"]\n",
    "\n",
    "x = df[quant_cols].values # Features\n",
    "y = df['clearance_type'].values # Target variable"
   ]
  },
  {
   "cell_type": "markdown",
   "metadata": {},
   "source": [
    "Let's build a function for training the model"
   ]
  },
  {
   "cell_type": "code",
   "execution_count": 16,
   "metadata": {},
   "outputs": [],
   "source": [
    "# Importing necessary libraries\n",
    "from sklearn.naive_bayes import GaussianNB\n",
    "from sklearn.model_selection import train_test_split\n",
    "from sklearn.metrics import accuracy_score, classification_report\n",
    "import random\n",
    "\n",
    "# Define a function to train a Gaussian Naive Bayes model\n",
    "def train_GNB_model(x_train, y_train, x_test, y_test, i_print=False):\n",
    "        \n",
    "    # Initialize the Gaussian Naive Bayes classifier\n",
    "    gnb = GaussianNB()\n",
    "\n",
    "    # Train the classifier using the training data\n",
    "    gnb.fit(x_train, y_train)\n",
    "\n",
    "    # Predict the class labels for both training and test sets\n",
    "    y_train_pred = gnb.predict(x_train)\n",
    "    y_test_pred = gnb.predict(x_test)\n",
    "\n",
    "    # Calculate the accuracy of the model on the training and test sets\n",
    "    train_accuracy = accuracy_score(y_train, y_train_pred)\n",
    "    test_accuracy = accuracy_score(y_test, y_test_pred)\n",
    "\n",
    "    # If i_print is True, print the training accuracy, test accuracy, and classification report\n",
    "    if i_print:\n",
    "            # Print the accuracies\n",
    "            print(\"Training Accuracy:\", str(train_accuracy*100) +\"%\")\n",
    "            print(\"Test Accuracy:\", str(test_accuracy*100) +\"%\")\n",
    "            # Print the classification report which includes precision, recall, and F1-score\n",
    "            print(\"Classification Report:\\n\", classification_report(y_test, y_test_pred))\n",
    "            \n",
    "    # Return the training and test accuracies\n",
    "    return train_accuracy, test_accuracy"
   ]
  },
  {
   "cell_type": "markdown",
   "metadata": {},
   "source": [
    "## **Feature Selection Hyperparameter Optimization**"
   ]
  },
  {
   "cell_type": "code",
   "execution_count": 17,
   "metadata": {},
   "outputs": [],
   "source": [
    "# SET INDICES FOR TRAIN/TEST SET\n",
    "N=x.shape[0]\n",
    "l = [*range(N)]       # indices\n",
    "cut = int(0.7 * N)    # 80% of the list\n",
    "random.shuffle(l)     # randomize\n",
    "train_index = l[:cut] # first 80% of shuffled list\n",
    "test_index = l[cut:]  # last 20% of shuffled list"
   ]
  },
  {
   "cell_type": "code",
   "execution_count": 18,
   "metadata": {},
   "outputs": [
    {
     "name": "stdout",
     "output_type": "stream",
     "text": [
      "0.10833142952489691\n",
      "0.7575468409562861\n"
     ]
    }
   ],
   "source": [
    "# COMPUTE UPPER AND LOWER LIMIT FOR VARIANCE ACCROSS SAMPLES\n",
    "x_var=np.var(x,axis=0)\n",
    "print(np.min(x_var))\n",
    "print(np.max(x_var))"
   ]
  },
  {
   "cell_type": "code",
   "execution_count": 19,
   "metadata": {},
   "outputs": [
    {
     "name": "stdout",
     "output_type": "stream",
     "text": [
      "Best Threshold: 0.7127733643058455\n",
      "Best Test Accuracy: 69.0 %\n",
      "Best Feature Indices: [0 4]\n"
     ]
    }
   ],
   "source": [
    "# VARIANCE THRESHOLD SEARCH\n",
    "\n",
    "from sklearn.feature_selection import VarianceThreshold\n",
    "\n",
    "# DEFINE GRID OF THRESHOLDS \n",
    "num_thresholds=30\n",
    "thresholds=np.linspace(np.min(x_var),np.max(x_var),num_thresholds)\n",
    "\n",
    "# DOESN\"T WORK WELL WITH EDGE VALUES (ZERO VAR)\n",
    "thresholds=thresholds[1:-2]; #print(thresholds)\n",
    "\n",
    "# INITIALIZE ARRAYS\n",
    "num_features=[]\n",
    "train_accuracies=[]\n",
    "test_accuracies=[]\n",
    "\n",
    "# INITIALIZE BEST VALUES\n",
    "best_acc_test = 0  \n",
    "best_threshold = 0\n",
    "best_feature_indices = []\n",
    "\n",
    "\n",
    "#FULL TRAINING SET\n",
    "x_train=x[train_index]; y_train=y[train_index]\n",
    "x_test=x[test_index]; y_test=y[test_index]\n",
    "(acc_train,acc_test)=train_GNB_model(x_train,y_train,x_test,y_test,i_print=False)\n",
    "num_features.append(x_train.shape[1])\n",
    "train_accuracies.append(acc_train)\n",
    "test_accuracies.append(acc_test)\n",
    "\n",
    "# SEARCH FOR OPTIMAL THRESHOLD\n",
    "for THRESHOLD in thresholds:\n",
    "    feature_selector = VarianceThreshold(threshold=THRESHOLD)\n",
    "    xtmp=feature_selector.fit_transform(x)\n",
    "\n",
    "    x_train=xtmp[train_index]; y_train=y[train_index]\n",
    "    x_test=xtmp[test_index]; y_test=y[test_index]\n",
    "\n",
    "    (acc_train,acc_test)=train_GNB_model(x_train,y_train,x_test,y_test,i_print= False)\n",
    "             \n",
    "    #RECORD \n",
    "    num_features.append(xtmp.shape[1])\n",
    "    train_accuracies.append(acc_train)\n",
    "    test_accuracies.append(acc_test)\n",
    "\n",
    "    if acc_test > best_acc_test:\n",
    "        best_acc_test = acc_test\n",
    "        best_threshold = THRESHOLD\n",
    "        best_feature_indices = feature_selector.get_support(indices=True)\n",
    "\n",
    "print(\"Best Threshold:\", best_threshold)\n",
    "print(\"Best Test Accuracy:\", round(float(best_acc_test),2) * 100,'%')\n",
    "print(\"Best Feature Indices:\", best_feature_indices)"
   ]
  },
  {
   "cell_type": "code",
   "execution_count": 20,
   "metadata": {},
   "outputs": [
    {
     "data": {
      "image/png": "[encoded data removed]",
      "text/plain": [
       "<Figure size 640x480 with 1 Axes>"
      ]
     },
     "metadata": {},
     "output_type": "display_data"
    }
   ],
   "source": [
    "plt.plot(num_features,train_accuracies,'-or')\n",
    "plt.plot(num_features,test_accuracies,'-ob')\n",
    "plt.xlabel('Number of features')\n",
    "plt.ylabel('ACCURACY: Training (blue) and Test (red)')\n",
    "plt.show()"
   ]
  },
  {
   "cell_type": "markdown",
   "metadata": {},
   "source": [
    "## **Running the Model**"
   ]
  },
  {
   "cell_type": "code",
   "execution_count": 21,
   "metadata": {},
   "outputs": [
    {
     "name": "stdout",
     "output_type": "stream",
     "text": [
      "Training Accuracy: 73.87543252595155%\n",
      "Test Accuracy: 71.03448275862068%\n",
      "Classification Report:\n",
      "               precision    recall  f1-score   support\n",
      "\n",
      " Abbreviated       0.00      0.00      0.00         1\n",
      "      Direct       0.00      0.00      0.00         1\n",
      "     Special       0.00      0.00      0.00        40\n",
      " Traditional       0.71      1.00      0.83       103\n",
      "\n",
      "    accuracy                           0.71       145\n",
      "   macro avg       0.18      0.25      0.21       145\n",
      "weighted avg       0.50      0.71      0.59       145\n",
      "\n"
     ]
    },
    {
     "name": "stderr",
     "output_type": "stream",
     "text": [
      "/Users/dsan/anaconda3/lib/python3.10/site-packages/sklearn/metrics/_classification.py:1469: UndefinedMetricWarning: Precision and F-score are ill-defined and being set to 0.0 in labels with no predicted samples. Use `zero_division` parameter to control this behavior.\n",
      "  _warn_prf(average, modifier, msg_start, len(result))\n",
      "/Users/dsan/anaconda3/lib/python3.10/site-packages/sklearn/metrics/_classification.py:1469: UndefinedMetricWarning: Precision and F-score are ill-defined and being set to 0.0 in labels with no predicted samples. Use `zero_division` parameter to control this behavior.\n",
      "  _warn_prf(average, modifier, msg_start, len(result))\n",
      "/Users/dsan/anaconda3/lib/python3.10/site-packages/sklearn/metrics/_classification.py:1469: UndefinedMetricWarning: Precision and F-score are ill-defined and being set to 0.0 in labels with no predicted samples. Use `zero_division` parameter to control this behavior.\n",
      "  _warn_prf(average, modifier, msg_start, len(result))\n"
     ]
    },
    {
     "data": {
      "text/plain": [
       "(0.7387543252595156, 0.7103448275862069)"
      ]
     },
     "execution_count": 21,
     "metadata": {},
     "output_type": "execute_result"
    }
   ],
   "source": [
    "# Split data into training and testing sets\n",
    "x_train, x_test, y_train, y_test = train_test_split(x[:,best_feature_indices], y, test_size=0.2, random_state=1)\n",
    "\n",
    "train_GNB_model(x_train,y_train,x_test,y_test,i_print=True)"
   ]
  },
  {
   "cell_type": "markdown",
   "metadata": {},
   "source": [
    "## **Interepreting Results**"
   ]
  },
  {
   "cell_type": "markdown",
   "metadata": {},
   "source": [
    "I observe a training accuracy of approximately 73.88% and a test accuracy of 71.03%. The alignment of training and test accuracies closer together suggests that my model is generalizing well to unseen data and provides reassurance that it is not overfitting to the training set.\n",
    "\n",
    "However, the classification report highlights significant disparities in the model's performance across the four classes: \"Abbreviated\", \"Direct\", \"Special\", and \"Traditional\". The model excels in predicting the \"Traditional\" class, with a precision of 0.71 and a recall of 1.00, culminating in an F1-score of 0.83. This demonstrates that my model has effectively learned to identify and correctly classify instances in this category.\n",
    "\n",
    "On the other hand, the model struggles significantly with the \"Abbreviated\", \"Direct\", and \"Special\" classes. It fails to correctly identify any instances in these categories, as indicated by the zero values for precision and recall. This is a clear sign of the model's limitation when dealing with class imbalance, as evidenced by the support numbers. The \"Special\" class, despite having 40 instances, is particularly poorly served by the model, suggesting that the features or data points provided do not sufficiently represent the nuances of this class to the model.\n",
    "\n",
    "The overall accuracy metric, standing at 71.03%, is predominantly driven by the high prevalence of the \"Traditional\" class in the test set. However, the macro average precision, recall, and F1-score, which are 0.18, 0.25, and 0.21 respectively, indicate that the model's performance is not consistent across different classes.\n",
    "\n",
    "To enhance the performance of my model, it is critical to address the class imbalance that is currently affecting its ability to learn from the \"Abbreviated\", \"Direct\", and \"Special\" classes. Methods such as oversampling the minority class, undersampling the majority class, or employing synthetic data generation techniques like SMOTE could be considered. Additionally, more complex models, feature selection techniques, or advanced algorithms that are better at handling imbalanced datasets might improve the performance across all classes."
   ]
  },
  {
   "cell_type": "markdown",
   "metadata": {},
   "source": [
    "# **Naive Bayes for Record Data with Advisory Committee**"
   ]
  },
  {
   "cell_type": "markdown",
   "metadata": {},
   "source": [
    "## **Extracting Data**"
   ]
  },
  {
   "cell_type": "code",
   "execution_count": 22,
   "metadata": {},
   "outputs": [],
   "source": [
    "x = df[quant_cols].values # Features\n",
    "y = df['advisory_committee_description'].values # Target variable"
   ]
  },
  {
   "cell_type": "markdown",
   "metadata": {},
   "source": [
    "## **Feature Selection and Hyperparameter Optimization**"
   ]
  },
  {
   "cell_type": "code",
   "execution_count": 23,
   "metadata": {},
   "outputs": [],
   "source": [
    "# SET INDICES FOR TRAIN/TEST SET\n",
    "N=x.shape[0]\n",
    "l = [*range(N)]       # indices\n",
    "cut = int(0.7 * N)    # 80% of the list\n",
    "random.shuffle(l)     # randomize\n",
    "train_index = l[:cut] # first 80% of shuffled list\n",
    "test_index = l[cut:]  # last 20% of shuffled list"
   ]
  },
  {
   "cell_type": "code",
   "execution_count": 24,
   "metadata": {},
   "outputs": [
    {
     "name": "stdout",
     "output_type": "stream",
     "text": [
      "0.10833142952489691\n",
      "0.7575468409562861\n"
     ]
    }
   ],
   "source": [
    "# COMPUTE UPPER AND LOWER LIMIT FOR VARIANCE ACCROSS SAMPLES\n",
    "x_var=np.var(x,axis=0)\n",
    "print(np.min(x_var))\n",
    "print(np.max(x_var))"
   ]
  },
  {
   "cell_type": "code",
   "execution_count": 25,
   "metadata": {},
   "outputs": [
    {
     "name": "stdout",
     "output_type": "stream",
     "text": [
      "Best Threshold: 0.5336794577040829\n",
      "Best Test Accuracy: 17.0 %\n",
      "Best Feature Indices: [0 1 3 4 5]\n"
     ]
    }
   ],
   "source": [
    "# VARIANCE THRESHOLD SEARCH\n",
    "\n",
    "from sklearn.feature_selection import VarianceThreshold\n",
    "\n",
    "# DEFINE GRID OF THRESHOLDS \n",
    "num_thresholds=30\n",
    "thresholds=np.linspace(np.min(x_var),np.max(x_var),num_thresholds)\n",
    "\n",
    "# DOESN\"T WORK WELL WITH EDGE VALUES (ZERO VAR)\n",
    "thresholds=thresholds[1:-2]; #print(thresholds)\n",
    "\n",
    "# INITIALIZE ARRAYS\n",
    "num_features=[]\n",
    "train_accuracies=[]\n",
    "test_accuracies=[]\n",
    "\n",
    "# INITIALIZE BEST VALUES\n",
    "best_acc_test = 0  \n",
    "best_threshold = 0\n",
    "best_feature_indices = []\n",
    "\n",
    "\n",
    "#FULL TRAINING SET\n",
    "x_train=x[train_index]; y_train=y[train_index]\n",
    "x_test=x[test_index]; y_test=y[test_index]\n",
    "(acc_train,acc_test)=train_GNB_model(x_train,y_train,x_test,y_test,i_print=False)\n",
    "num_features.append(x_train.shape[1])\n",
    "train_accuracies.append(acc_train)\n",
    "test_accuracies.append(acc_test)\n",
    "\n",
    "# SEARCH FOR OPTIMAL THRESHOLD\n",
    "for THRESHOLD in thresholds:\n",
    "    feature_selector = VarianceThreshold(threshold=THRESHOLD)\n",
    "    xtmp=feature_selector.fit_transform(x)\n",
    "\n",
    "    x_train=xtmp[train_index]; y_train=y[train_index]\n",
    "    x_test=xtmp[test_index]; y_test=y[test_index]\n",
    "\n",
    "    (acc_train,acc_test)=train_GNB_model(x_train,y_train,x_test,y_test,i_print= False)\n",
    "             \n",
    "    #RECORD \n",
    "    num_features.append(xtmp.shape[1])\n",
    "    train_accuracies.append(acc_train)\n",
    "    test_accuracies.append(acc_test)\n",
    "\n",
    "    if acc_test > best_acc_test:\n",
    "        best_acc_test = acc_test\n",
    "        best_threshold = THRESHOLD\n",
    "        best_feature_indices = feature_selector.get_support(indices=True)\n",
    "\n",
    "print(\"Best Threshold:\", best_threshold)\n",
    "print(\"Best Test Accuracy:\", round(float(best_acc_test),2) * 100,'%')\n",
    "print(\"Best Feature Indices:\", best_feature_indices)"
   ]
  },
  {
   "cell_type": "code",
   "execution_count": 26,
   "metadata": {},
   "outputs": [
    {
     "data": {
      "image/png": "[encoded data removed]",
      "text/plain": [
       "<Figure size 640x480 with 1 Axes>"
      ]
     },
     "metadata": {},
     "output_type": "display_data"
    }
   ],
   "source": [
    "plt.plot(num_features,train_accuracies,'-or')\n",
    "plt.plot(num_features,test_accuracies,'-ob')\n",
    "plt.xlabel('Number of features')\n",
    "plt.ylabel('ACCURACY: Training (blue) and Test (red)')\n",
    "plt.show()"
   ]
  },
  {
   "cell_type": "markdown",
   "metadata": {},
   "source": [
    "## **Running the Model**"
   ]
  },
  {
   "cell_type": "code",
   "execution_count": 27,
   "metadata": {},
   "outputs": [
    {
     "name": "stdout",
     "output_type": "stream",
     "text": [
      "Training Accuracy: 17.474048442906575%\n",
      "Test Accuracy: 16.551724137931036%\n",
      "Classification Report:\n",
      "                            precision    recall  f1-score   support\n",
      "\n",
      "           Anesthesiology       0.00      0.00      0.00         4\n",
      "           Cardiovascular       0.00      0.00      0.00        26\n",
      "       Clinical Chemistry       0.00      0.00      0.00        10\n",
      "                   Dental       0.00      0.00      0.00         2\n",
      "        Ear, Nose, Throat       0.00      0.00      0.00         1\n",
      "Gastroenterology, Urology       0.67      0.17      0.27        12\n",
      "         General Hospital       0.31      0.61      0.41        18\n",
      " General, Plastic Surgery       0.20      0.12      0.15        17\n",
      "               Hematology       0.00      0.00      0.00         1\n",
      "               Immunology       0.00      0.00      0.00         1\n",
      "             Microbiology       0.00      0.00      0.00        13\n",
      "                Neurology       0.29      0.18      0.22        11\n",
      "    Obstetrics/Gynecology       0.00      0.00      0.00         2\n",
      "               Ophthalmic       0.02      1.00      0.05         1\n",
      "               Orthopedic       0.16      0.31      0.21        16\n",
      "                Pathology       0.00      0.00      0.00         1\n",
      "        Physical Medicine       0.00      0.00      0.00         0\n",
      "                Radiology       0.14      0.14      0.14         7\n",
      "                  Unknown       0.00      0.00      0.00         2\n",
      "\n",
      "                 accuracy                           0.17       145\n",
      "                macro avg       0.09      0.13      0.08       145\n",
      "             weighted avg       0.16      0.17      0.14       145\n",
      "\n"
     ]
    },
    {
     "name": "stderr",
     "output_type": "stream",
     "text": [
      "/Users/dsan/anaconda3/lib/python3.10/site-packages/sklearn/metrics/_classification.py:1469: UndefinedMetricWarning: Precision and F-score are ill-defined and being set to 0.0 in labels with no predicted samples. Use `zero_division` parameter to control this behavior.\n",
      "  _warn_prf(average, modifier, msg_start, len(result))\n",
      "/Users/dsan/anaconda3/lib/python3.10/site-packages/sklearn/metrics/_classification.py:1469: UndefinedMetricWarning: Recall and F-score are ill-defined and being set to 0.0 in labels with no true samples. Use `zero_division` parameter to control this behavior.\n",
      "  _warn_prf(average, modifier, msg_start, len(result))\n",
      "/Users/dsan/anaconda3/lib/python3.10/site-packages/sklearn/metrics/_classification.py:1469: UndefinedMetricWarning: Precision and F-score are ill-defined and being set to 0.0 in labels with no predicted samples. Use `zero_division` parameter to control this behavior.\n",
      "  _warn_prf(average, modifier, msg_start, len(result))\n",
      "/Users/dsan/anaconda3/lib/python3.10/site-packages/sklearn/metrics/_classification.py:1469: UndefinedMetricWarning: Recall and F-score are ill-defined and being set to 0.0 in labels with no true samples. Use `zero_division` parameter to control this behavior.\n",
      "  _warn_prf(average, modifier, msg_start, len(result))\n",
      "/Users/dsan/anaconda3/lib/python3.10/site-packages/sklearn/metrics/_classification.py:1469: UndefinedMetricWarning: Precision and F-score are ill-defined and being set to 0.0 in labels with no predicted samples. Use `zero_division` parameter to control this behavior.\n",
      "  _warn_prf(average, modifier, msg_start, len(result))\n",
      "/Users/dsan/anaconda3/lib/python3.10/site-packages/sklearn/metrics/_classification.py:1469: UndefinedMetricWarning: Recall and F-score are ill-defined and being set to 0.0 in labels with no true samples. Use `zero_division` parameter to control this behavior.\n",
      "  _warn_prf(average, modifier, msg_start, len(result))\n"
     ]
    },
    {
     "data": {
      "text/plain": [
       "(0.17474048442906576, 0.16551724137931034)"
      ]
     },
     "execution_count": 27,
     "metadata": {},
     "output_type": "execute_result"
    }
   ],
   "source": [
    "# Split data into training and testing sets\n",
    "x_train, x_test, y_train, y_test = train_test_split(x[:,best_feature_indices], y, test_size=0.2, random_state=1)\n",
    "\n",
    "train_GNB_model(x_train,y_train,x_test,y_test,i_print=True)"
   ]
  },
  {
   "cell_type": "markdown",
   "metadata": {},
   "source": [
    "## **Interpreting Results**"
   ]
  },
  {
   "cell_type": "markdown",
   "metadata": {},
   "source": [
    "Analyzing the outcomes from the Naive Bayes model I ran to predict advisory committee descriptions based on financial data, I observe a stark contrast in performance compared to previous models. The training accuracy is notably low at 17.47%, and the test accuracy is similarly low at 16.55%. Such results are indicative of a model that struggles significantly to capture the patterns in the data necessary for making accurate predictions.\n",
    "\n",
    "The classification report provides a more detailed look into the performance across individual classes:\n",
    "\n",
    "- **High Recall in an Isolated Case**: The 'Ophthalmic' class shows a recall of 1.00, indicating that the model correctly identified the only instance of this class in the test set. However, the extremely low precision of 0.02 suggests that the model erroneously classified many other instances as 'Ophthalmic', which is not ideal.\n",
    "\n",
    "- **Some Recognition in Few Classes**: For 'Gastroenterology, Urology' and 'General Hospital', there's a semblance of recognition, with precision and recall higher than zero. 'General Hospital', in particular, has a precision of 0.31 and a recall of 0.61, leading to the highest F1-score of 0.41 in the report. This shows that the model is somewhat better at identifying this class, but not without a significant error rate.\n",
    "\n",
    "- **Predominant Zero Performance**: The majority of classes have a precision and recall of 0.00, signifying that the model failed to correctly predict these classes. This is a major concern as it reflects the model's inability to generalize from the training data to these specific classes.\n",
    "\n",
    "- **Overall Low Accuracy and Macro Average Scores**: The overall accuracy and macro averages for precision, recall, and F1-score are very low. These averages are critical because they provide an assessment of the model's performance across all classes, not just the dominant or well-represented ones.\n",
    "\n",
    "The evident conclusion from these results is that the model is not effectively learning from the financial data to predict the advisory committee descriptions. There are a number of potential reasons for this:\n",
    "\n",
    "- **Insufficient or Irrelevant Features**: The financial data may not contain enough information or the right kind of information to predict the advisory committee descriptions. This would mean that the features used to train the model do not have a strong predictive relationship with the target variable.\n",
    "\n",
    "- **Complex Relationships**: The relationships between the financial data and the advisory committee descriptions may be too complex for a Naive Bayes model, which assumes independence between features.\n",
    "\n",
    "- **Data Quality Issues**: There might be issues with the quality of the data, such as incorrect entries, missing values, or outliers that have not been adequately addressed.\n",
    "\n",
    "- **Imbalanced Dataset**: The class imbalance is severe, as seen from the support values, which suggests that the model is overwhelmed by the more represented classes and fails to learn about the less frequent ones.\n",
    "\n",
    "To address these challenges, I would consider the following strategies:\n",
    "\n",
    "1. **Feature Engineering**: I may need to revisit the features being used and consider adding new features or transforming existing ones to better capture the predictive signals in the data.\n",
    "\n",
    "2. **Model Complexity**: A more complex model that can capture non-linear relationships or models that are specifically designed for imbalanced data might be necessary.\n",
    "\n",
    "3. **Data Preprocessing**: I should review the data preprocessing steps to ensure that data quality issues are being adequately addressed.\n",
    "\n",
    "4. **Class Imbalance**: Techniques to address class imbalance, such as oversampling minority classes or undersampling majority classes, could help improve the model's performance.\n",
    "\n",
    "The performance of the Naive Bayes model on this dataset is suboptimal, and significant improvements are needed. By implementing the strategies above, I aim to enhance the model's ability to learn from the financial data and predict the advisory committee descriptions with greater accuracy."
   ]
  },
  {
   "cell_type": "markdown",
   "metadata": {},
   "source": [
    "# **Conclusion**"
   ]
  },
  {
   "cell_type": "markdown",
   "metadata": {},
   "source": [
    "Upon reflection, the outcomes of the two modeling exercises I conducted offer contrasting insights into the predictive capabilities of the machine learning algorithms used in relation to the financial data for predicting different FDA-related outcomes.\n",
    "\n",
    "## **Comparative Analysis:**\n",
    "\n",
    "1. **Performance Metrics**:\n",
    "   - The initial model predicting clearance types demonstrated a reasonably good fit with the data, with test accuracy surpassing training accuracy, indicating effective generalization. However, it showed considerable bias towards the majority class.\n",
    "   - The Naive Bayes model predicting advisory committee descriptions, on the other hand, exhibited very poor performance across almost all metrics, with both training and test accuracies being notably low. This suggests a fundamental issue with the model's fit to the data.\n",
    "\n",
    "2. **Class Imbalance**:\n",
    "   - Both models suffered from class imbalance, but the impact was more pronounced in the Naive Bayes model. The majority class 'Traditional' skewed the results in the first model, whereas in the Naive Bayes model, the majority class 'General Hospital' overshadowed the others to an even greater extent.\n",
    "\n",
    "3. **Model Suitability**:\n",
    "   - The disparities between training and test accuracies in the first model hinted at potential overfitting, despite higher test accuracy. This was not the case with the Naive Bayes model, which underperformed consistently, indicating that the model or the features were inadequate for the task.\n",
    "\n",
    "4. **Feature Relevance**:\n",
    "   - The first model's features seemed to have some predictive power, particularly for the 'Traditional' class. In contrast, the features in the Naive Bayes model appeared to lack sufficient relevance or differentiation capability across classes, as evidenced by the predominantly zero precision and recall scores.\n",
    "\n",
    "## **Overall Conclusion:**\n",
    "\n",
    "The comparison of these two models underscores several key takeaways:\n",
    "\n",
    "- **Model Selection and Class Imbalance**: The choice of model is crucial, especially in the context of class imbalance. While the first model managed to achieve some predictive success, the Naive Bayes model faltered, which could be due to the assumptions of feature independence within the Naive Bayes algorithm not holding true for this particular dataset.\n",
    "  \n",
    "- **Data Quality and Feature Engineering**: There is a clear need for improved data quality and feature engineering, especially for the Naive Bayes model. The financial data might require more nuanced processing or augmentation with additional relevant features to capture the complexity of advisory committee descriptions.\n",
    "\n",
    "- **Strategic Data Handling**: Addressing class imbalance through strategic resampling methods or tailored algorithms that can accommodate the skewness in the data distribution is imperative for enhancing model performance.\n",
    "\n",
    "- **Algorithm Complexity**: The complexity of the relationships in the data might necessitate more sophisticated algorithms than Naive Bayes, which makes strong assumptions about the data distribution and feature independence.\n",
    "\n",
    "While the first model showed promise and indicated directions for improvement, the Naive Bayes model highlighted more fundamental issues with feature selection and model appropriateness. Going forward, the focus will be on improving feature engineering, data preprocessing, and model selection to address these challenges and achieve a more balanced and accurate prediction across all classes of interest in the dataset."
   ]
  },
  {
   "cell_type": "markdown",
   "metadata": {},
   "source": []
  }
 ],
 "metadata": {
  "kernelspec": {
   "display_name": "base",
   "language": "python",
   "name": "python3"
  },
  "language_info": {
   "codemirror_mode": {
    "name": "ipython",
    "version": 3
   },
   "file_extension": ".py",
   "mimetype": "text/x-python",
   "name": "python",
   "nbconvert_exporter": "python",
   "pygments_lexer": "ipython3",
   "version": "3.10.13"
  }
 },
 "nbformat": 4,
 "nbformat_minor": 2
}
